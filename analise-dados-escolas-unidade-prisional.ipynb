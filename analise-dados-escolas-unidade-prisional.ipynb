{
 "cells": [
  {
   "cell_type": "code",
   "execution_count": 23,
   "metadata": {},
   "outputs": [],
   "source": [
    "#Bibliotecas necessárias\n",
    "import pandas as pd\n",
    "import numpy as np\n",
    "import matplotlib.pyplot as plt"
   ]
  },
  {
   "cell_type": "code",
   "execution_count": 24,
   "metadata": {},
   "outputs": [],
   "source": [
    "#Configuraçõs iniciais\n",
    "%matplotlib inline\n",
    "low_memory=False"
   ]
  },
  {
   "cell_type": "code",
   "execution_count": 38,
   "metadata": {},
   "outputs": [],
   "source": [
    "#Variáveis\n",
    "anos = ['2015', '2016', '2017', '2018']\n",
    "escolas = []\n",
    "unidades = []"
   ]
  },
  {
   "cell_type": "code",
   "execution_count": 39,
   "metadata": {},
   "outputs": [],
   "source": [
    "#Data Frame e Leitura dos arquivos, contando os dados e armazendo-os em suas respectivas listas\n",
    "#Anos de 2015, 2016, 2017, 2018\n",
    "\n",
    "#2015\n",
    "df = pd.read_csv('escolas_2015.csv', usecols=['IN_LOCAL_FUNC_UNID_PRISIONAL', 'NO_ENTIDADE'], encoding='iso-8859-1',delimiter = '|')\n",
    "unidades.append(df.query('(IN_LOCAL_FUNC_UNID_PRISIONAL == 1)')['IN_LOCAL_FUNC_UNID_PRISIONAL'].count())\n",
    "escolas.append(len(df['NO_ENTIDADE']))\n",
    "#2016\n",
    "df = pd.read_csv('escolas_2016.csv', usecols=['IN_LOCAL_FUNC_UNID_PRISIONAL', 'NO_ENTIDADE'], encoding='iso-8859-1', delimiter = '|')\n",
    "unidades.append(df.query('(IN_LOCAL_FUNC_UNID_PRISIONAL == 1)')['IN_LOCAL_FUNC_UNID_PRISIONAL'].count())\n",
    "escolas.append(len(df['NO_ENTIDADE']))\n",
    "#2017\n",
    "df = pd.read_csv('escolas_2017.csv', usecols=['IN_LOCAL_FUNC_UNID_PRISIONAL', 'NO_ENTIDADE'], encoding='iso-8859-1',delimiter = '|')\n",
    "unidades.append(df.query('(IN_LOCAL_FUNC_UNID_PRISIONAL == 1)')['IN_LOCAL_FUNC_UNID_PRISIONAL'].count())\n",
    "escolas.append(len(df['NO_ENTIDADE']))\n",
    "#2018\n",
    "df = pd.read_csv('escolas_2018.csv', usecols=['IN_LOCAL_FUNC_UNID_PRISIONAL', 'NO_ENTIDADE'], encoding='iso-8859-1', delimiter = '|')\n",
    "unidades.append(df.query('(IN_LOCAL_FUNC_UNID_PRISIONAL == 1)')['IN_LOCAL_FUNC_UNID_PRISIONAL'].count())\n",
    "escolas.append(len(df['NO_ENTIDADE']))"
   ]
  },
  {
   "cell_type": "code",
   "execution_count": 43,
   "metadata": {},
   "outputs": [
    {
     "data": {
      "image/png": "[encoded data removed]",
      "text/plain": [
       "<Figure size 432x288 with 1 Axes>"
      ]
     },
     "metadata": {
      "needs_background": "light"
     },
     "output_type": "display_data"
    }
   ],
   "source": [
    "#Plot no gráfico\n",
    "#Opção 1\n",
    "fig, ax = plt.subplots()\n",
    "ax.plot(anos, unidades, lw = 2, color = '#FF7373', alpha = 1, label = 'Unidades' )\n",
    "ax.grid()\n",
    "plt.legend()\n",
    "ax.set_title('Desenvolvimento de Escolas em Unidade Prisional')\n",
    "ax.set_xlabel('Anos')\n",
    "ax.set_ylabel('Quantidade')\n",
    "plt.show()"
   ]
  },
  {
   "cell_type": "code",
   "execution_count": 44,
   "metadata": {},
   "outputs": [
    {
     "data": {
      "image/png": "[encoded data removed]",
      "text/plain": [
       "<Figure size 432x288 with 1 Axes>"
      ]
     },
     "metadata": {
      "needs_background": "light"
     },
     "output_type": "display_data"
    }
   ],
   "source": [
    "#Opção 2\n",
    "barWidth = 0.3\n",
    "bars1 = unidades\n",
    "yer1 = [2015, 2016, 2017, 2018]\n",
    " \n",
    "r1 = np.arange(len(bars1))\n",
    "r2 = [x + barWidth for x in r1]\n",
    " \n",
    "plt.bar(r1, bars1, width = barWidth, color = '#FF7373', edgecolor = 'black', yerr=yer1, capsize=7, label='Unidades')\n",
    " \n",
    "plt.xticks([r + barWidth for r in range(len(bars1))], ['2015', '2016', '2017', '2018'])\n",
    "plt.title('Desenvolvimento de Escolas em Unidade Prisional')\n",
    "plt.ylabel('Quantidade')\n",
    "plt.xlabel('Anos')\n",
    "plt.legend()\n",
    "plt.show()"
   ]
  },
  {
   "cell_type": "code",
   "execution_count": 42,
   "metadata": {},
   "outputs": [
    {
     "data": {
      "text/html": [
       "<div>\n",
       "<style scoped>\n",
       "    .dataframe tbody tr th:only-of-type {\n",
       "        vertical-align: middle;\n",
       "    }\n",
       "\n",
       "    .dataframe tbody tr th {\n",
       "        vertical-align: top;\n",
       "    }\n",
       "\n",
       "    .dataframe thead th {\n",
       "        text-align: right;\n",
       "    }\n",
       "</style>\n",
       "<table border=\"1\" class=\"dataframe\">\n",
       "  <thead>\n",
       "    <tr style=\"text-align: right;\">\n",
       "      <th></th>\n",
       "      <th>2015</th>\n",
       "      <th>2016</th>\n",
       "      <th>2017</th>\n",
       "      <th>2018</th>\n",
       "    </tr>\n",
       "  </thead>\n",
       "  <tbody>\n",
       "    <tr>\n",
       "      <th>Escolas</th>\n",
       "      <td>272996</td>\n",
       "      <td>279358</td>\n",
       "      <td>282362</td>\n",
       "      <td>286014</td>\n",
       "    </tr>\n",
       "    <tr>\n",
       "      <th>Escolas em Unidades Prisionais</th>\n",
       "      <td>495</td>\n",
       "      <td>514</td>\n",
       "      <td>544</td>\n",
       "      <td>551</td>\n",
       "    </tr>\n",
       "  </tbody>\n",
       "</table>\n",
       "</div>"
      ],
      "text/plain": [
       "                                  2015    2016    2017    2018\n",
       "Escolas                         272996  279358  282362  286014\n",
       "Escolas em Unidades Prisionais     495     514     544     551"
      ]
     },
     "execution_count": 42,
     "metadata": {},
     "output_type": "execute_result"
    }
   ],
   "source": [
    "#Tabela com os dados do número total de escolas e o número de escolas em unidade prisional\n",
    "dadosTb = {}\n",
    "for x in range(4):    \n",
    "    dadosTb.update({anos[x]: [escolas[x], unidades[x]]})\n",
    "dfdt = pd.DataFrame(dadosTb, columns=anos, index=['Escolas', 'Escolas em Unidades Prisionais'])\n",
    "dfdt"
   ]
  },
  {
   "cell_type": "code",
   "execution_count": null,
   "metadata": {},
   "outputs": [],
   "source": []
  }
 ],
 "metadata": {
  "kernelspec": {
   "display_name": "Python 3",
   "language": "python",
   "name": "python3"
  },
  "language_info": {
   "codemirror_mode": {
    "name": "ipython",
    "version": 3
   },
   "file_extension": ".py",
   "mimetype": "text/x-python",
   "name": "python",
   "nbconvert_exporter": "python",
   "pygments_lexer": "ipython3",
   "version": "3.7.5"
  }
 },
 "nbformat": 4,
 "nbformat_minor": 2
}
